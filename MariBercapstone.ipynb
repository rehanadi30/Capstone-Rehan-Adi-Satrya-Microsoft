{
  "cells": [
    {
      "cell_type": "code",
      "source": [
        "# Import Library\n",
        "\n",
        "import pandas as pd\n",
        "from pandas import ExcelWriter\n",
        "from pandas import ExcelFile\n",
        "\n",
        "import numpy as np\n",
        "import seaborn as sns\n",
        "import matplotlib.pyplot as plt"
      ],
      "outputs": [],
      "execution_count": 1,
      "metadata": {
        "id": "DrMAHbMIP1bb",
        "gather": {
          "logged": 1638530296719
        }
      }
    },
    {
      "cell_type": "code",
      "source": [
        "# Read the dataset\n",
        "df = pd.read_csv('MariBisnis.csv')"
      ],
      "outputs": [],
      "execution_count": 2,
      "metadata": {
        "id": "MzU5nO4VQg_X",
        "gather": {
          "logged": 1638530297063
        }
      }
    },
    {
      "cell_type": "code",
      "source": [
        "# Print the columns\n",
        "print(\"Column headings:\")\n",
        "print(df.columns)"
      ],
      "outputs": [
        {
          "output_type": "stream",
          "name": "stdout",
          "text": "Column headings:\nIndex(['id', 'date', 'price', 'bedrooms', 'bathrooms', 'sqft_living',\n       'sqft_lot', 'floors', 'waterfront', 'view', 'condition', 'grade',\n       'sqft_above', 'sqft_basement', 'yr_built', 'yr_renovated', 'zipcode',\n       'lat', 'long', 'sqft_living15', 'sqft_lot15'],\n      dtype='object')\n"
        }
      ],
      "execution_count": 3,
      "metadata": {
        "colab": {
          "base_uri": "https://localhost:8080/"
        },
        "id": "MQb0WfvkQh2f",
        "outputId": "2368efa4-9402-4412-9cf3-3f2db91fd3c6",
        "gather": {
          "logged": 1638530297216
        }
      }
    },
    {
      "cell_type": "code",
      "source": [
        "# Dropping nilai null\n",
        "df.isnull().sum()\n",
        "# drop some unnecessary columns\n",
        "df = df.drop('date',axis=1)\n",
        "df = df.drop('id',axis=1)\n",
        "df = df.drop('zipcode',axis=1)"
      ],
      "outputs": [],
      "execution_count": 4,
      "metadata": {
        "id": "El0LkBVHcQXr",
        "gather": {
          "logged": 1638530297364
        }
      }
    },
    {
      "cell_type": "code",
      "source": [
        "X = df.drop('price',axis =1).values\n",
        "y = df['price'].values\n",
        "\n",
        "#Split data Train and Test \n",
        "from sklearn.model_selection import train_test_split\n",
        "X_train, X_test, y_train, y_test = train_test_split(X, y, test_size=0.33, random_state=101)"
      ],
      "outputs": [],
      "execution_count": 5,
      "metadata": {
        "id": "jjz-GGP6cUMw",
        "gather": {
          "logged": 1638530297517
        }
      }
    },
    {
      "cell_type": "code",
      "source": [
        "#standardization scaler - fit&transform on train, fit only on test\n",
        "from sklearn.preprocessing import StandardScaler\n",
        "s_scaler = StandardScaler()\n",
        "X_train = s_scaler.fit_transform(X_train.astype(np.float))\n",
        "X_test = s_scaler.transform(X_test.astype(np.float))"
      ],
      "outputs": [],
      "execution_count": 6,
      "metadata": {
        "id": "_u24PigBcamU",
        "gather": {
          "logged": 1638530297654
        }
      }
    },
    {
      "cell_type": "code",
      "source": [
        "# Multiple Liner Regression\n",
        "from sklearn.linear_model import LinearRegression\n",
        "regressor = LinearRegression()  \n",
        "regressor.fit(X_train, y_train)\n",
        "#evaluate the model (intercept and slope)\n",
        "print(regressor.intercept_)\n",
        "print(regressor.coef_)\n",
        "\n",
        "#predicting the test set result\n",
        "y_pred = regressor.predict(X_test)\n",
        "\n",
        "#Cek Koefisien keterkaitannya\n",
        "coeff_df = pd.DataFrame(regressor.coef_, df.drop('price',axis =1).columns, columns=['Coefficient']) \n",
        "coeff_df"
      ],
      "outputs": [
        {
          "output_type": "stream",
          "name": "stdout",
          "text": "540136.5221442968\n[-3.13528097e+04  2.82993426e+04  1.31295685e+17  6.64924546e+03\n  3.10394267e+03  4.99601146e+04  3.71898284e+04  2.10051390e+04\n  1.15989535e+05 -1.18730852e+17 -6.29549892e+16 -7.32298384e+04\n  7.18903311e+03  7.77064385e+04 -1.72459235e+04  1.86896681e+04\n -1.04502115e+04]\n"
        },
        {
          "output_type": "execute_result",
          "execution_count": 7,
          "data": {
            "text/plain": "                Coefficient\nbedrooms      -3.135281e+04\nbathrooms      2.829934e+04\nsqft_living    1.312957e+17\nsqft_lot       6.649245e+03\nfloors         3.103943e+03\nwaterfront     4.996011e+04\nview           3.718983e+04\ncondition      2.100514e+04\ngrade          1.159895e+05\nsqft_above    -1.187309e+17\nsqft_basement -6.295499e+16\nyr_built      -7.322984e+04\nyr_renovated   7.189033e+03\nlat            7.770644e+04\nlong          -1.724592e+04\nsqft_living15  1.868967e+04\nsqft_lot15    -1.045021e+04",
            "text/html": "<div>\n<style scoped>\n    .dataframe tbody tr th:only-of-type {\n        vertical-align: middle;\n    }\n\n    .dataframe tbody tr th {\n        vertical-align: top;\n    }\n\n    .dataframe thead th {\n        text-align: right;\n    }\n</style>\n<table border=\"1\" class=\"dataframe\">\n  <thead>\n    <tr style=\"text-align: right;\">\n      <th></th>\n      <th>Coefficient</th>\n    </tr>\n  </thead>\n  <tbody>\n    <tr>\n      <th>bedrooms</th>\n      <td>-3.135281e+04</td>\n    </tr>\n    <tr>\n      <th>bathrooms</th>\n      <td>2.829934e+04</td>\n    </tr>\n    <tr>\n      <th>sqft_living</th>\n      <td>1.312957e+17</td>\n    </tr>\n    <tr>\n      <th>sqft_lot</th>\n      <td>6.649245e+03</td>\n    </tr>\n    <tr>\n      <th>floors</th>\n      <td>3.103943e+03</td>\n    </tr>\n    <tr>\n      <th>waterfront</th>\n      <td>4.996011e+04</td>\n    </tr>\n    <tr>\n      <th>view</th>\n      <td>3.718983e+04</td>\n    </tr>\n    <tr>\n      <th>condition</th>\n      <td>2.100514e+04</td>\n    </tr>\n    <tr>\n      <th>grade</th>\n      <td>1.159895e+05</td>\n    </tr>\n    <tr>\n      <th>sqft_above</th>\n      <td>-1.187309e+17</td>\n    </tr>\n    <tr>\n      <th>sqft_basement</th>\n      <td>-6.295499e+16</td>\n    </tr>\n    <tr>\n      <th>yr_built</th>\n      <td>-7.322984e+04</td>\n    </tr>\n    <tr>\n      <th>yr_renovated</th>\n      <td>7.189033e+03</td>\n    </tr>\n    <tr>\n      <th>lat</th>\n      <td>7.770644e+04</td>\n    </tr>\n    <tr>\n      <th>long</th>\n      <td>-1.724592e+04</td>\n    </tr>\n    <tr>\n      <th>sqft_living15</th>\n      <td>1.868967e+04</td>\n    </tr>\n    <tr>\n      <th>sqft_lot15</th>\n      <td>-1.045021e+04</td>\n    </tr>\n  </tbody>\n</table>\n</div>"
          },
          "metadata": {}
        }
      ],
      "execution_count": 7,
      "metadata": {
        "colab": {
          "base_uri": "https://localhost:8080/",
          "height": 749
        },
        "id": "2rZHiidGcby4",
        "outputId": "a2b8ad81-4e92-48a3-ce59-bea0f58e5fe8",
        "gather": {
          "logged": 1638530297796
        }
      }
    },
    {
      "cell_type": "code",
      "source": [
        "# Bandingkan hasil prediksi dengan hasil asli\n",
        "y_pred = regressor.predict(X_test)\n",
        "df_eval = pd.DataFrame({'Actual': y_test, 'Predicted': y_pred})\n",
        "df1 = df_eval.head(10)\n",
        "df1"
      ],
      "outputs": [
        {
          "output_type": "execute_result",
          "execution_count": 8,
          "data": {
            "text/plain": "     Actual      Predicted\n0  349950.0  511448.522144\n1  450000.0  646672.522144\n2  635000.0  535384.522144\n3  355500.0  327144.522144\n4  246950.0   75260.522144\n5  406550.0  490024.522144\n6  350000.0  295960.522144\n7  226500.0  278304.522144\n8  265000.0  289880.522144\n9  656000.0  510806.522144",
            "text/html": "<div>\n<style scoped>\n    .dataframe tbody tr th:only-of-type {\n        vertical-align: middle;\n    }\n\n    .dataframe tbody tr th {\n        vertical-align: top;\n    }\n\n    .dataframe thead th {\n        text-align: right;\n    }\n</style>\n<table border=\"1\" class=\"dataframe\">\n  <thead>\n    <tr style=\"text-align: right;\">\n      <th></th>\n      <th>Actual</th>\n      <th>Predicted</th>\n    </tr>\n  </thead>\n  <tbody>\n    <tr>\n      <th>0</th>\n      <td>349950.0</td>\n      <td>511448.522144</td>\n    </tr>\n    <tr>\n      <th>1</th>\n      <td>450000.0</td>\n      <td>646672.522144</td>\n    </tr>\n    <tr>\n      <th>2</th>\n      <td>635000.0</td>\n      <td>535384.522144</td>\n    </tr>\n    <tr>\n      <th>3</th>\n      <td>355500.0</td>\n      <td>327144.522144</td>\n    </tr>\n    <tr>\n      <th>4</th>\n      <td>246950.0</td>\n      <td>75260.522144</td>\n    </tr>\n    <tr>\n      <th>5</th>\n      <td>406550.0</td>\n      <td>490024.522144</td>\n    </tr>\n    <tr>\n      <th>6</th>\n      <td>350000.0</td>\n      <td>295960.522144</td>\n    </tr>\n    <tr>\n      <th>7</th>\n      <td>226500.0</td>\n      <td>278304.522144</td>\n    </tr>\n    <tr>\n      <th>8</th>\n      <td>265000.0</td>\n      <td>289880.522144</td>\n    </tr>\n    <tr>\n      <th>9</th>\n      <td>656000.0</td>\n      <td>510806.522144</td>\n    </tr>\n  </tbody>\n</table>\n</div>"
          },
          "metadata": {}
        }
      ],
      "execution_count": 8,
      "metadata": {
        "colab": {
          "base_uri": "https://localhost:8080/",
          "height": 363
        },
        "id": "zceazmGXco46",
        "outputId": "3b1b6099-b782-45bf-d0bd-ab2baf704245",
        "gather": {
          "logged": 1638530297965
        }
      }
    },
    {
      "cell_type": "code",
      "source": [
        "# Evaluasi\n",
        "from sklearn import metrics\n",
        "print('MAE:', metrics.mean_absolute_error(y_test, y_pred))  \n",
        "print('MSE:', metrics.mean_squared_error(y_test, y_pred))  \n",
        "print('RMSE:', np.sqrt(metrics.mean_squared_error(y_test, y_pred)))\n",
        "print('VarScore:',metrics.explained_variance_score(y_test,y_pred))"
      ],
      "outputs": [
        {
          "output_type": "stream",
          "name": "stdout",
          "text": "MAE: 126652.16713272841\nMSE: 40881645042.57581\nRMSE: 202192.09935745713\nVarScore: 0.7023434263356307\n"
        }
      ],
      "execution_count": 9,
      "metadata": {
        "colab": {
          "base_uri": "https://localhost:8080/"
        },
        "id": "XOZ1iPL-c8ee",
        "outputId": "5a92f0e9-4248-4b6e-9447-84b2b1cb67c3",
        "gather": {
          "logged": 1638530298086
        }
      }
    }
  ],
  "metadata": {
    "colab": {
      "name": "MariBercapstone.ipynb",
      "provenance": []
    },
    "kernelspec": {
      "name": "python3",
      "language": "python",
      "display_name": "Python 3"
    },
    "language_info": {
      "name": "python",
      "version": "3.6.9",
      "mimetype": "text/x-python",
      "codemirror_mode": {
        "name": "ipython",
        "version": 3
      },
      "pygments_lexer": "ipython3",
      "nbconvert_exporter": "python",
      "file_extension": ".py"
    },
    "kernel_info": {
      "name": "python3"
    },
    "nteract": {
      "version": "nteract-front-end@1.0.0"
    },
    "microsoft": {
      "host": {
        "AzureML": {
          "notebookHasBeenCompleted": true
        }
      }
    }
  },
  "nbformat": 4,
  "nbformat_minor": 0
}